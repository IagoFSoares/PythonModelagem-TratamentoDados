{
 "cells": [
  {
   "cell_type": "code",
   "execution_count": 1,
   "id": "f75323e8-7b3d-4c1a-9683-24d306134878",
   "metadata": {},
   "outputs": [],
   "source": [
    "import pandas as pd\n",
    "import seaborn as srn\n",
    "import statistics  as sts"
   ]
  },
  {
   "cell_type": "code",
   "execution_count": 2,
   "id": "261a9ba7-2f77-4a73-9e6c-c697c9f650cb",
   "metadata": {},
   "outputs": [
    {
     "data": {
      "text/html": [
       "<div>\n",
       "<style scoped>\n",
       "    .dataframe tbody tr th:only-of-type {\n",
       "        vertical-align: middle;\n",
       "    }\n",
       "\n",
       "    .dataframe tbody tr th {\n",
       "        vertical-align: top;\n",
       "    }\n",
       "\n",
       "    .dataframe thead th {\n",
       "        text-align: right;\n",
       "    }\n",
       "</style>\n",
       "<table border=\"1\" class=\"dataframe\">\n",
       "  <thead>\n",
       "    <tr style=\"text-align: right;\">\n",
       "      <th></th>\n",
       "      <th>ID</th>\n",
       "      <th>ProductID</th>\n",
       "      <th>ClientID</th>\n",
       "      <th>Discount</th>\n",
       "      <th>UnitPrice</th>\n",
       "      <th>Quantity</th>\n",
       "      <th>StoreID</th>\n",
       "      <th>Date</th>\n",
       "    </tr>\n",
       "  </thead>\n",
       "  <tbody>\n",
       "    <tr>\n",
       "      <th>0</th>\n",
       "      <td>80260d682079b6090c8285b398c50d97</td>\n",
       "      <td>002552c0663708129c0019cc97552d7d3</td>\n",
       "      <td>14001</td>\n",
       "      <td>0,08</td>\n",
       "      <td>249,2</td>\n",
       "      <td>1</td>\n",
       "      <td>4</td>\n",
       "      <td>12/10/2018</td>\n",
       "    </tr>\n",
       "    <tr>\n",
       "      <th>1</th>\n",
       "      <td>3275736da1234f55d52bdf09d86b93bc</td>\n",
       "      <td>001b237c0e9bb435f2e54071129237e93</td>\n",
       "      <td>14001</td>\n",
       "      <td>0,1</td>\n",
       "      <td>162,4</td>\n",
       "      <td>1</td>\n",
       "      <td>4</td>\n",
       "      <td>4/25/2019</td>\n",
       "    </tr>\n",
       "    <tr>\n",
       "      <th>2</th>\n",
       "      <td>f3513eec8f1434b5b7e04ddf3598df40</td>\n",
       "      <td>00066f42aeeb9f3007548bb9d3f33c381</td>\n",
       "      <td>14001</td>\n",
       "      <td>0,1</td>\n",
       "      <td>194,6</td>\n",
       "      <td>1</td>\n",
       "      <td>4</td>\n",
       "      <td>7/17/2019</td>\n",
       "    </tr>\n",
       "    <tr>\n",
       "      <th>3</th>\n",
       "      <td>7180475b60fe6bbbde424d39704a1177</td>\n",
       "      <td>001b72dfd63e9833e8c02742adf472e33</td>\n",
       "      <td>14002</td>\n",
       "      <td>0,1</td>\n",
       "      <td>201,6</td>\n",
       "      <td>2</td>\n",
       "      <td>1</td>\n",
       "      <td>04/10/2018</td>\n",
       "    </tr>\n",
       "    <tr>\n",
       "      <th>4</th>\n",
       "      <td>76600853a200fe87e141adae6b35674c</td>\n",
       "      <td>00210e41887c2a8ef9f791ebc780cc363</td>\n",
       "      <td>14002</td>\n",
       "      <td>0,1</td>\n",
       "      <td>406</td>\n",
       "      <td>1</td>\n",
       "      <td>1</td>\n",
       "      <td>1/21/2019</td>\n",
       "    </tr>\n",
       "  </tbody>\n",
       "</table>\n",
       "</div>"
      ],
      "text/plain": [
       "                                 ID                          ProductID  \\\n",
       "0  80260d682079b6090c8285b398c50d97  002552c0663708129c0019cc97552d7d3   \n",
       "1  3275736da1234f55d52bdf09d86b93bc  001b237c0e9bb435f2e54071129237e93   \n",
       "2  f3513eec8f1434b5b7e04ddf3598df40  00066f42aeeb9f3007548bb9d3f33c381   \n",
       "3  7180475b60fe6bbbde424d39704a1177  001b72dfd63e9833e8c02742adf472e33   \n",
       "4  76600853a200fe87e141adae6b35674c  00210e41887c2a8ef9f791ebc780cc363   \n",
       "\n",
       "  ClientID Discount UnitPrice Quantity StoreID        Date  \n",
       "0    14001     0,08     249,2        1       4  12/10/2018  \n",
       "1    14001      0,1     162,4        1       4   4/25/2019  \n",
       "2    14001      0,1     194,6        1       4   7/17/2019  \n",
       "3    14002      0,1     201,6        2       1  04/10/2018  \n",
       "4    14002      0,1       406        1       1   1/21/2019  "
      ]
     },
     "execution_count": 2,
     "metadata": {},
     "output_type": "execute_result"
    }
   ],
   "source": [
    "#importar dados\n",
    "dataset = pd.read_csv(\"teste.csv\", sep=\";\")\n",
    "#visulizar\n",
    "dataset.head()"
   ]
  },
  {
   "cell_type": "code",
   "execution_count": 3,
   "id": "44babe1d-cb5a-4dc8-9969-9c20ef712ef8",
   "metadata": {},
   "outputs": [
    {
     "data": {
      "text/plain": [
       "ProductID\n",
       "00066f42aeeb9f3007548bb9d3f33c381    244\n",
       "00066f42aeeb9f3007548bb9d3f33c382    206\n",
       "00066f42aeeb9f3007548bb9d3f33c383    868\n",
       "00066f42aeeb9f3007548bb9d3f33c384      1\n",
       "00066f42aeeb9f3007548bb9d3f33c385      1\n",
       "                                    ... \n",
       "003128f981470c3e5a2e7445e4a771cd6      1\n",
       "003128f981470c3e5a2e7445e4a771cd7      1\n",
       "003128f981470c3e5a2e7445e4a771cd8      1\n",
       "003128f981470c3e5a2e7445e4a771cd9      1\n",
       "ProductID                             11\n",
       "Length: 252, dtype: int64"
      ]
     },
     "execution_count": 3,
     "metadata": {},
     "output_type": "execute_result"
    }
   ],
   "source": [
    "#explorar dados categoricos\n",
    "#estado\n",
    "agrupado = dataset.groupby(['ProductID']).size()\n",
    "agrupado"
   ]
  },
  {
   "cell_type": "code",
   "execution_count": 6,
   "id": "37a4bc1d-992b-4f6e-a838-2261b2dac765",
   "metadata": {},
   "outputs": [
    {
     "data": {
      "text/plain": [
       "count                                 32753\n",
       "unique                                  252\n",
       "top       002d4ea7c04739c130bb74d7e7cd16943\n",
       "freq                                    955\n",
       "Name: ProductID, dtype: object"
      ]
     },
     "execution_count": 6,
     "metadata": {},
     "output_type": "execute_result"
    }
   ],
   "source": [
    "dataset['ProductID'].describe()"
   ]
  },
  {
   "cell_type": "code",
   "execution_count": null,
   "id": "4b876bb9-d05b-44ee-b470-812baab14904",
   "metadata": {},
   "outputs": [],
   "source": []
  }
 ],
 "metadata": {
  "kernelspec": {
   "display_name": "Python 3 (ipykernel)",
   "language": "python",
   "name": "python3"
  },
  "language_info": {
   "codemirror_mode": {
    "name": "ipython",
    "version": 3
   },
   "file_extension": ".py",
   "mimetype": "text/x-python",
   "name": "python",
   "nbconvert_exporter": "python",
   "pygments_lexer": "ipython3",
   "version": "3.9.7"
  }
 },
 "nbformat": 4,
 "nbformat_minor": 5
}
